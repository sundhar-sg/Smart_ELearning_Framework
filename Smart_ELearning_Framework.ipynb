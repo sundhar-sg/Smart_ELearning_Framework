{
 "cells": [
  {
   "cell_type": "markdown",
   "metadata": {},
   "source": [
    "## Smart E - Learning Framework using Deep Q - Learning"
   ]
  },
  {
   "cell_type": "markdown",
   "metadata": {},
   "source": [
    "### Importing the Necessary Libraries"
   ]
  },
  {
   "cell_type": "code",
   "execution_count": 25,
   "metadata": {},
   "outputs": [],
   "source": [
    "import numpy as np\n",
    "import matplotlib.pyplot as plt\n",
    "import pandas as pd\n",
    "\n",
    "import tensorflow as tf\n",
    "\n",
    "from sklearn.feature_selection import mutual_info_classif\n",
    "from sklearn.preprocessing import MinMaxScaler, OrdinalEncoder"
   ]
  },
  {
   "cell_type": "markdown",
   "metadata": {},
   "source": [
    "### Importing the Dataset"
   ]
  },
  {
   "cell_type": "code",
   "execution_count": 2,
   "metadata": {},
   "outputs": [
    {
     "name": "stdout",
     "output_type": "stream",
     "text": [
      "Training Set Values: \n",
      "    enroll_id  username                              course_id  \\\n",
      "0       1103    550424  course-v1:TsinghuaX+70800232X+2015_T2   \n",
      "1       1103    550424  course-v1:TsinghuaX+70800232X+2015_T2   \n",
      "2       1735   1003557  course-v1:TsinghuaX+70800232X+2015_T2   \n",
      "3       1103    550424  course-v1:TsinghuaX+70800232X+2015_T2   \n",
      "4        895    119795  course-v1:TsinghuaX+70800232X+2015_T2   \n",
      "\n",
      "                         session_id      action  \\\n",
      "0  eb08a96b85f9ef51e8ab624447ecc33b  stop_video   \n",
      "1  eb08a96b85f9ef51e8ab624447ecc33b  stop_video   \n",
      "2  8fe0f1348594853d460796f498fb7f0e  play_video   \n",
      "3  eb08a96b85f9ef51e8ab624447ecc33b  stop_video   \n",
      "4  18f52eaeb8bbddbefe9e58a6efa9ca95  seek_video   \n",
      "\n",
      "                             object                time  truth  \n",
      "0  3169d758ee2d4262b07f0113df743c42 2015-10-27 12:24:59      0  \n",
      "1  3169d758ee2d4262b07f0113df743c42 2015-10-27 13:57:45      0  \n",
      "2  e8621bd03c2446dcb89548a373177354 2015-10-19 19:09:34      1  \n",
      "3  3169d758ee2d4262b07f0113df743c42 2015-10-27 19:15:38      0  \n",
      "4  3dac5590435e43b3a65a9ae7426c16db 2015-09-28 15:31:43      1  \n",
      "Test Set Values: \n",
      "    enroll_id  username                                    course_id  \\\n",
      "0      10113    476109         course-v1:TsinghuaX+30240184+2015_T2   \n",
      "1      25038   1085810                  TsinghuaX/00680142X/2015_T2   \n",
      "2      31108    503068  course-v1:TsinghuaX+80000901X_2015T2+2015T2   \n",
      "3      41538    215494           course-v1:HIT+13GH16000700+2016_TS   \n",
      "4       2109    281510        course-v1:TsinghuaX+70800232X+2015_T2   \n",
      "\n",
      "                         session_id       action  \\\n",
      "0  222210aafcdff31dcd3a1d308782c9a3   stop_video   \n",
      "1  c7f5ff2a63795a1d4c1fe111ab1e47e8   play_video   \n",
      "2  6f8c63980e8e85702fffba39a34333f7   stop_video   \n",
      "3  66abb0bec57ded474b187b533088c031  pause_video   \n",
      "4  6fa261c9689c158ef32123b23350781b   seek_video   \n",
      "\n",
      "                                              object                time  \\\n",
      "0                   343926b55453457ebb2b1f0b6367a81d 2015-09-22 09:05:59   \n",
      "1  i4x-TsinghuaX-00680142X-video-ae1ef3494d724e07... 2015-10-18 11:42:24   \n",
      "2                   ffb68ee647bd418abc8dc15f60e6c386 2015-10-01 13:56:47   \n",
      "3                   65339f519f8e4ccf9029f39df222f485 2016-07-11 16:44:45   \n",
      "4                   67d2051d7e464679a8bb58920d0b118e 2015-10-27 14:37:53   \n",
      "\n",
      "   truth  \n",
      "0      0  \n",
      "1      0  \n",
      "2      0  \n",
      "3      1  \n",
      "4      0  \n"
     ]
    }
   ],
   "source": [
    "training_set = pd.read_csv('./Dataset/Training_Data.csv', parse_dates=['time'])\n",
    "test_set = pd.read_csv('./Dataset/Test_Data.csv', parse_dates=['time'])\n",
    "\n",
    "print(\"Training Set Values: \\n\", training_set.head())\n",
    "print(\"Test Set Values: \\n\", test_set.head())"
   ]
  },
  {
   "cell_type": "markdown",
   "metadata": {},
   "source": [
    "### Data Preprocessing"
   ]
  },
  {
   "cell_type": "markdown",
   "metadata": {},
   "source": [
    "#### Finding and removing the features which contains null values"
   ]
  },
  {
   "cell_type": "code",
   "execution_count": 3,
   "metadata": {},
   "outputs": [
    {
     "name": "stdout",
     "output_type": "stream",
     "text": [
      "enroll_id         0\n",
      "username          0\n",
      "course_id         0\n",
      "session_id        0\n",
      "action            0\n",
      "object        13803\n",
      "time              0\n",
      "truth             0\n",
      "dtype: int64\n",
      "   enroll_id  username                              course_id  \\\n",
      "0       1103    550424  course-v1:TsinghuaX+70800232X+2015_T2   \n",
      "1       1103    550424  course-v1:TsinghuaX+70800232X+2015_T2   \n",
      "2       1735   1003557  course-v1:TsinghuaX+70800232X+2015_T2   \n",
      "3       1103    550424  course-v1:TsinghuaX+70800232X+2015_T2   \n",
      "4        895    119795  course-v1:TsinghuaX+70800232X+2015_T2   \n",
      "\n",
      "                         session_id      action                time  truth  \n",
      "0  eb08a96b85f9ef51e8ab624447ecc33b  stop_video 2015-10-27 12:24:59      0  \n",
      "1  eb08a96b85f9ef51e8ab624447ecc33b  stop_video 2015-10-27 13:57:45      0  \n",
      "2  8fe0f1348594853d460796f498fb7f0e  play_video 2015-10-19 19:09:34      1  \n",
      "3  eb08a96b85f9ef51e8ab624447ecc33b  stop_video 2015-10-27 19:15:38      0  \n",
      "4  18f52eaeb8bbddbefe9e58a6efa9ca95  seek_video 2015-09-28 15:31:43      1  \n",
      "enroll_id        0\n",
      "username         0\n",
      "course_id        0\n",
      "session_id       0\n",
      "action           0\n",
      "object        4391\n",
      "time             0\n",
      "truth            0\n",
      "dtype: int64\n",
      "   enroll_id  username                                    course_id  \\\n",
      "0      10113    476109         course-v1:TsinghuaX+30240184+2015_T2   \n",
      "1      25038   1085810                  TsinghuaX/00680142X/2015_T2   \n",
      "2      31108    503068  course-v1:TsinghuaX+80000901X_2015T2+2015T2   \n",
      "3      41538    215494           course-v1:HIT+13GH16000700+2016_TS   \n",
      "4       2109    281510        course-v1:TsinghuaX+70800232X+2015_T2   \n",
      "\n",
      "                         session_id       action                time  truth  \n",
      "0  222210aafcdff31dcd3a1d308782c9a3   stop_video 2015-09-22 09:05:59      0  \n",
      "1  c7f5ff2a63795a1d4c1fe111ab1e47e8   play_video 2015-10-18 11:42:24      0  \n",
      "2  6f8c63980e8e85702fffba39a34333f7   stop_video 2015-10-01 13:56:47      0  \n",
      "3  66abb0bec57ded474b187b533088c031  pause_video 2016-07-11 16:44:45      1  \n",
      "4  6fa261c9689c158ef32123b23350781b   seek_video 2015-10-27 14:37:53      0  \n"
     ]
    }
   ],
   "source": [
    "print(training_set.isnull().sum())\n",
    "\n",
    "training_set.dropna(axis=1, inplace=True)\n",
    "print(training_set.head())\n",
    "\n",
    "print(test_set.isnull().sum())\n",
    "\n",
    "test_set.dropna(axis=1, inplace=True)\n",
    "print(test_set.head())"
   ]
  },
  {
   "cell_type": "markdown",
   "metadata": {},
   "source": [
    "#### Encoding the Numerical Data of the Training Set"
   ]
  },
  {
   "cell_type": "code",
   "execution_count": 4,
   "metadata": {},
   "outputs": [
    {
     "name": "stdout",
     "output_type": "stream",
     "text": [
      "['enroll_id' 'username' 'truth']\n",
      "[[0.31285444 0.33480581 0.        ]\n",
      " [0.31285444 0.33480581 0.        ]\n",
      " [0.91020794 0.6104811  1.        ]\n",
      " ...\n",
      " [0.70510397 0.6623111  0.        ]\n",
      " [0.31285444 0.33480581 0.        ]\n",
      " [0.31285444 0.33480581 0.        ]]\n",
      "   enroll_id  username  truth\n",
      "0   0.312854  0.334806    0.0\n",
      "1   0.312854  0.334806    0.0\n",
      "2   0.910208  0.610481    1.0\n",
      "3   0.312854  0.334806    0.0\n",
      "4   0.116257  0.072821    1.0\n"
     ]
    }
   ],
   "source": [
    "numerical_training_set = training_set.select_dtypes(include=['int'])\n",
    "\n",
    "numerical_encoder = MinMaxScaler(feature_range=(0,1))\n",
    "numerical_training_set = numerical_encoder.fit_transform(numerical_training_set)\n",
    "\n",
    "print(numerical_encoder.get_feature_names_out())\n",
    "\n",
    "numerical_training_dataframe = pd.DataFrame(data=numerical_training_set, columns=numerical_encoder.get_feature_names_out())\n",
    "\n",
    "print(numerical_training_set)\n",
    "print(numerical_training_dataframe.head())"
   ]
  },
  {
   "cell_type": "markdown",
   "metadata": {},
   "source": [
    "#### Encoding the Categorical Data of the Training Set"
   ]
  },
  {
   "cell_type": "code",
   "execution_count": 5,
   "metadata": {},
   "outputs": [
    {
     "name": "stdout",
     "output_type": "stream",
     "text": [
      "   course_id  session_id  action_click_about  action_click_courseware  \\\n",
      "0        0.0    0.916424                 0.0                      0.0   \n",
      "1        0.0    0.916424                 0.0                      0.0   \n",
      "2        0.0    0.524781                 0.0                      0.0   \n",
      "3        0.0    0.916424                 0.0                      0.0   \n",
      "4        0.0    0.103013                 0.0                      0.0   \n",
      "\n",
      "   action_click_forum  action_click_info  action_click_progress  \\\n",
      "0                 0.0                0.0                    0.0   \n",
      "1                 0.0                0.0                    0.0   \n",
      "2                 0.0                0.0                    0.0   \n",
      "3                 0.0                0.0                    0.0   \n",
      "4                 0.0                0.0                    0.0   \n",
      "\n",
      "   action_close_courseware  action_create_comment  action_create_thread  \\\n",
      "0                      0.0                    0.0                   0.0   \n",
      "1                      0.0                    0.0                   0.0   \n",
      "2                      0.0                    0.0                   0.0   \n",
      "3                      0.0                    0.0                   0.0   \n",
      "4                      0.0                    0.0                   0.0   \n",
      "\n",
      "   action_load_video  action_pause_video  action_play_video  \\\n",
      "0                0.0                 0.0                0.0   \n",
      "1                0.0                 0.0                0.0   \n",
      "2                0.0                 0.0                1.0   \n",
      "3                0.0                 0.0                0.0   \n",
      "4                0.0                 0.0                0.0   \n",
      "\n",
      "   action_problem_get  action_seek_video  action_stop_video  \n",
      "0                 0.0                0.0                1.0  \n",
      "1                 0.0                0.0                1.0  \n",
      "2                 0.0                0.0                0.0  \n",
      "3                 0.0                0.0                1.0  \n",
      "4                 0.0                1.0                0.0  \n"
     ]
    }
   ],
   "source": [
    "categorical_training_set = training_set.select_dtypes(include=['object'])\n",
    "\n",
    "categorical_training_set = pd.get_dummies(categorical_training_set, columns=['action'])\n",
    "\n",
    "encoder = OrdinalEncoder()\n",
    "categorical_encoded_set = encoder.fit_transform(categorical_training_set)\n",
    "\n",
    "categorical_encoded_set = numerical_encoder.fit_transform(categorical_encoded_set)\n",
    "\n",
    "categorical_training_set = pd.DataFrame(categorical_encoded_set, columns=categorical_training_set.columns)\n",
    "print(categorical_training_set.head())"
   ]
  },
  {
   "cell_type": "markdown",
   "metadata": {},
   "source": [
    "#### Encoding the DateTime feature"
   ]
  },
  {
   "cell_type": "code",
   "execution_count": 6,
   "metadata": {},
   "outputs": [
    {
     "name": "stdout",
     "output_type": "stream",
     "text": [
      "0   2015-10-27 12:24:59\n",
      "1   2015-10-27 13:57:45\n",
      "2   2015-10-19 19:09:34\n",
      "3   2015-10-27 19:15:38\n",
      "4   2015-09-28 15:31:43\n",
      "Name: time, dtype: datetime64[ns]\n",
      "0        0.901615\n",
      "1        0.903419\n",
      "2        0.685364\n",
      "3        0.909604\n",
      "4        0.092806\n",
      "           ...   \n",
      "49995    0.289124\n",
      "49996    0.928223\n",
      "49997    0.868127\n",
      "49998    0.903983\n",
      "49999    0.912940\n",
      "Name: datetime, Length: 50000, dtype: float64\n"
     ]
    }
   ],
   "source": [
    "print(training_set['time'].head())\n",
    "\n",
    "training_set['datetime'] = training_set['time'].values.astype(np.int64) // 10 ** 9\n",
    "training_set = training_set.drop(['time'], axis = 1)\n",
    "\n",
    "training_set['datetime'] = numerical_encoder.fit_transform(pd.DataFrame(training_set['datetime']))\n",
    "print(training_set['datetime'])"
   ]
  },
  {
   "cell_type": "markdown",
   "metadata": {},
   "source": [
    "#### Combining the encoded features into a single dataframe"
   ]
  },
  {
   "cell_type": "code",
   "execution_count": 10,
   "metadata": {},
   "outputs": [
    {
     "name": "stdout",
     "output_type": "stream",
     "text": [
      "<class 'pandas.core.frame.DataFrame'>\n",
      "RangeIndex: 50000 entries, 0 to 49999\n",
      "Data columns (total 20 columns):\n",
      " #   Column                   Non-Null Count  Dtype  \n",
      "---  ------                   --------------  -----  \n",
      " 0   enroll_id                50000 non-null  float64\n",
      " 1   username                 50000 non-null  float64\n",
      " 2   truth                    50000 non-null  float64\n",
      " 3   course_id                50000 non-null  float64\n",
      " 4   session_id               50000 non-null  float64\n",
      " 5   action_click_about       50000 non-null  float64\n",
      " 6   action_click_courseware  50000 non-null  float64\n",
      " 7   action_click_forum       50000 non-null  float64\n",
      " 8   action_click_info        50000 non-null  float64\n",
      " 9   action_click_progress    50000 non-null  float64\n",
      " 10  action_close_courseware  50000 non-null  float64\n",
      " 11  action_create_comment    50000 non-null  float64\n",
      " 12  action_create_thread     50000 non-null  float64\n",
      " 13  action_load_video        50000 non-null  float64\n",
      " 14  action_pause_video       50000 non-null  float64\n",
      " 15  action_play_video        50000 non-null  float64\n",
      " 16  action_problem_get       50000 non-null  float64\n",
      " 17  action_seek_video        50000 non-null  float64\n",
      " 18  action_stop_video        50000 non-null  float64\n",
      " 19  datetime                 50000 non-null  float64\n",
      "dtypes: float64(20)\n",
      "memory usage: 7.6 MB\n",
      "None\n"
     ]
    }
   ],
   "source": [
    "encoded_training_set = pd.merge(numerical_training_dataframe, categorical_training_set, left_index=True, right_index=True)\n",
    "encoded_training_set = pd.merge(encoded_training_set, training_set['datetime'], left_index=True, right_index=True)\n",
    "print(encoded_training_set.info())"
   ]
  },
  {
   "cell_type": "markdown",
   "metadata": {},
   "source": [
    "#### Splitting the Training Set into two parts"
   ]
  },
  {
   "cell_type": "code",
   "execution_count": 8,
   "metadata": {},
   "outputs": [
    {
     "name": "stdout",
     "output_type": "stream",
     "text": [
      "Training Set - X Train: \n",
      "        enroll_id  username  truth  course_id  session_id  action_click_about  \\\n",
      "25858   0.312854  0.334806    0.0        0.0    0.916424                 0.0   \n",
      "10784   0.696597  0.653865    0.0        0.0    0.587949                 1.0   \n",
      "24807   0.988658  0.214788    1.0        0.0    0.150632                 0.0   \n",
      "49534   0.727788  0.897883    1.0        0.0    0.045675                 0.0   \n",
      "3345    0.493384  0.307187    0.0        0.0    0.375121                 0.0   \n",
      "\n",
      "       action_click_courseware  action_click_forum  action_click_info  \\\n",
      "25858                      0.0                 0.0                0.0   \n",
      "10784                      0.0                 0.0                0.0   \n",
      "24807                      0.0                 0.0                1.0   \n",
      "49534                      0.0                 0.0                0.0   \n",
      "3345                       0.0                 0.0                0.0   \n",
      "\n",
      "       action_click_progress  action_close_courseware  action_create_comment  \\\n",
      "25858                    0.0                      0.0                    0.0   \n",
      "10784                    0.0                      0.0                    0.0   \n",
      "24807                    0.0                      0.0                    0.0   \n",
      "49534                    0.0                      0.0                    0.0   \n",
      "3345                     0.0                      0.0                    0.0   \n",
      "\n",
      "       action_create_thread  action_load_video  action_pause_video  \\\n",
      "25858                   0.0                0.0                 0.0   \n",
      "10784                   0.0                0.0                 0.0   \n",
      "24807                   0.0                0.0                 0.0   \n",
      "49534                   0.0                0.0                 0.0   \n",
      "3345                    0.0                0.0                 1.0   \n",
      "\n",
      "       action_play_video  action_problem_get  action_seek_video  \\\n",
      "25858                0.0                 0.0                0.0   \n",
      "10784                0.0                 0.0                0.0   \n",
      "24807                0.0                 0.0                0.0   \n",
      "49534                0.0                 0.0                1.0   \n",
      "3345                 0.0                 0.0                0.0   \n",
      "\n",
      "       action_stop_video  datetime  \n",
      "25858                1.0  0.905225  \n",
      "10784                0.0  0.799755  \n",
      "24807                0.0  0.122165  \n",
      "49534                0.0  0.318088  \n",
      "3345                 0.0  0.940275  \n",
      "Training Set - Y Train: \n",
      "        enroll_id  username  truth  course_id  session_id  action_click_about  \\\n",
      "33553   0.926276  0.029842    0.0        0.0    0.819242                 0.0   \n",
      "9427    0.312854  0.334806    0.0        0.0    0.916424                 0.0   \n",
      "199     0.334594  0.214346    0.0        0.0    0.046647                 0.0   \n",
      "12447   0.322306  0.400453    1.0        0.0    0.876579                 0.0   \n",
      "39489   0.137996  0.198937    0.0        0.0    0.837707                 0.0   \n",
      "\n",
      "       action_click_courseware  action_click_forum  action_click_info  \\\n",
      "33553                      0.0                 0.0                0.0   \n",
      "9427                       0.0                 0.0                0.0   \n",
      "199                        0.0                 0.0                0.0   \n",
      "12447                      0.0                 0.0                0.0   \n",
      "39489                      0.0                 0.0                0.0   \n",
      "\n",
      "       action_click_progress  action_close_courseware  action_create_comment  \\\n",
      "33553                    0.0                      0.0                    0.0   \n",
      "9427                     0.0                      0.0                    0.0   \n",
      "199                      0.0                      0.0                    0.0   \n",
      "12447                    0.0                      0.0                    0.0   \n",
      "39489                    0.0                      0.0                    0.0   \n",
      "\n",
      "       action_create_thread  action_load_video  action_pause_video  \\\n",
      "33553                   0.0                0.0                 1.0   \n",
      "9427                    0.0                0.0                 0.0   \n",
      "199                     0.0                0.0                 0.0   \n",
      "12447                   0.0                0.0                 0.0   \n",
      "39489                   0.0                0.0                 0.0   \n",
      "\n",
      "       action_play_video  action_problem_get  action_seek_video  \\\n",
      "33553                0.0                 0.0                0.0   \n",
      "9427                 0.0                 0.0                0.0   \n",
      "199                  1.0                 0.0                0.0   \n",
      "12447                1.0                 0.0                0.0   \n",
      "39489                1.0                 0.0                0.0   \n",
      "\n",
      "       action_stop_video  datetime  \n",
      "33553                0.0  0.151494  \n",
      "9427                 1.0  0.901575  \n",
      "199                  0.0  0.483026  \n",
      "12447                0.0  0.850412  \n",
      "39489                0.0  0.873699  \n"
     ]
    }
   ],
   "source": [
    "from sklearn.model_selection import train_test_split\n",
    "\n",
    "xtrain, ytrain = train_test_split(encoded_training_set, train_size=0.5, random_state=42)\n",
    "print(\"Training Set - X Train: \\n\", xtrain.head())\n",
    "print(\"Training Set - Y Train: \\n\", ytrain.head())"
   ]
  },
  {
   "cell_type": "markdown",
   "metadata": {},
   "source": [
    "### Feature Selection"
   ]
  },
  {
   "cell_type": "markdown",
   "metadata": {},
   "source": [
    "#### Identifying the Categorical Features and Numerical Features in the Dataframe"
   ]
  },
  {
   "cell_type": "code",
   "execution_count": 12,
   "metadata": {},
   "outputs": [
    {
     "name": "stdout",
     "output_type": "stream",
     "text": [
      "['enroll_id', 'username', 'truth', 'datetime']\n",
      "['course_id', 'session_id', 'action']\n"
     ]
    }
   ],
   "source": [
    "numerical_features = training_set.select_dtypes(include=['int', 'float']).columns\n",
    "print(numerical_features.to_list())\n",
    "\n",
    "categorical_features = training_set.select_dtypes(include=['object']).columns\n",
    "print(categorical_features.to_list())"
   ]
  }
 ],
 "metadata": {
  "kernelspec": {
   "display_name": "Python 3",
   "language": "python",
   "name": "python3"
  },
  "language_info": {
   "codemirror_mode": {
    "name": "ipython",
    "version": 3
   },
   "file_extension": ".py",
   "mimetype": "text/x-python",
   "name": "python",
   "nbconvert_exporter": "python",
   "pygments_lexer": "ipython3",
   "version": "3.11.5"
  }
 },
 "nbformat": 4,
 "nbformat_minor": 2
}
