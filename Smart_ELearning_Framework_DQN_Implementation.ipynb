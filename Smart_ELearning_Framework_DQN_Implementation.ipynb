{
 "cells": [
  {
   "cell_type": "markdown",
   "metadata": {
    "id": "Vi1nhs_6_NnV"
   },
   "source": [
    "## Smart E - Learning Framework Using Deep Q - Network of Reinforcement Learning"
   ]
  },
  {
   "cell_type": "markdown",
   "metadata": {
    "id": "kQn4bzRR_y5S"
   },
   "source": [
    "### Installing the Necessary Libraries"
   ]
  },
  {
   "cell_type": "code",
   "execution_count": 1,
   "metadata": {
    "colab": {
     "base_uri": "https://localhost:8080/"
    },
    "executionInfo": {
     "elapsed": 109420,
     "status": "ok",
     "timestamp": 1709106373938,
     "user": {
      "displayName": "Sundhar Gopal",
      "userId": "16938864680908115120"
     },
     "user_tz": -330
    },
    "id": "wFImd1ao_2jn",
    "outputId": "0b2c18b4-9568-432a-9904-db54d7283f93",
    "tags": []
   },
   "outputs": [
    {
     "name": "stdout",
     "output_type": "stream",
     "text": [
      "Collecting gymnasium\n",
      "  Downloading gymnasium-0.29.1-py3-none-any.whl.metadata (10 kB)\n",
      "Requirement already satisfied: numpy>=1.21.0 in /home/ec2-user/anaconda3/envs/tensorflow2_p310/lib/python3.10/site-packages (from gymnasium) (1.26.3)\n",
      "Requirement already satisfied: cloudpickle>=1.2.0 in /home/ec2-user/anaconda3/envs/tensorflow2_p310/lib/python3.10/site-packages (from gymnasium) (2.2.1)\n",
      "Requirement already satisfied: typing-extensions>=4.3.0 in /home/ec2-user/anaconda3/envs/tensorflow2_p310/lib/python3.10/site-packages (from gymnasium) (4.5.0)\n",
      "Collecting farama-notifications>=0.0.1 (from gymnasium)\n",
      "  Downloading Farama_Notifications-0.0.4-py3-none-any.whl.metadata (558 bytes)\n",
      "Downloading gymnasium-0.29.1-py3-none-any.whl (953 kB)\n",
      "\u001b[2K   \u001b[90m━━━━━━━━━━━━━━━━━━━━━━━━━━━━━━━━━━━━━━━━\u001b[0m \u001b[32m953.9/953.9 kB\u001b[0m \u001b[31m21.8 MB/s\u001b[0m eta \u001b[36m0:00:00\u001b[0m00:01\u001b[0m\n",
      "\u001b[?25hDownloading Farama_Notifications-0.0.4-py3-none-any.whl (2.5 kB)\n",
      "Installing collected packages: farama-notifications, gymnasium\n",
      "Successfully installed farama-notifications-0.0.4 gymnasium-0.29.1\n",
      "Requirement already satisfied: gymnasium[accept-rom-license,atari] in /home/ec2-user/anaconda3/envs/tensorflow2_p310/lib/python3.10/site-packages (0.29.1)\n",
      "Requirement already satisfied: numpy>=1.21.0 in /home/ec2-user/anaconda3/envs/tensorflow2_p310/lib/python3.10/site-packages (from gymnasium[accept-rom-license,atari]) (1.26.3)\n",
      "Requirement already satisfied: cloudpickle>=1.2.0 in /home/ec2-user/anaconda3/envs/tensorflow2_p310/lib/python3.10/site-packages (from gymnasium[accept-rom-license,atari]) (2.2.1)\n",
      "Requirement already satisfied: typing-extensions>=4.3.0 in /home/ec2-user/anaconda3/envs/tensorflow2_p310/lib/python3.10/site-packages (from gymnasium[accept-rom-license,atari]) (4.5.0)\n",
      "Requirement already satisfied: farama-notifications>=0.0.1 in /home/ec2-user/anaconda3/envs/tensorflow2_p310/lib/python3.10/site-packages (from gymnasium[accept-rom-license,atari]) (0.0.4)\n",
      "Collecting autorom~=0.4.2 (from autorom[accept-rom-license]~=0.4.2; extra == \"accept-rom-license\"->gymnasium[accept-rom-license,atari])\n",
      "  Downloading AutoROM-0.4.2-py3-none-any.whl.metadata (2.8 kB)\n",
      "Collecting shimmy<1.0,>=0.1.0 (from shimmy[atari]<1.0,>=0.1.0; extra == \"atari\"->gymnasium[accept-rom-license,atari])\n",
      "  Downloading Shimmy-0.2.1-py3-none-any.whl.metadata (2.3 kB)\n",
      "Requirement already satisfied: click in /home/ec2-user/anaconda3/envs/tensorflow2_p310/lib/python3.10/site-packages (from autorom~=0.4.2->autorom[accept-rom-license]~=0.4.2; extra == \"accept-rom-license\"->gymnasium[accept-rom-license,atari]) (8.1.7)\n",
      "Requirement already satisfied: requests in /home/ec2-user/anaconda3/envs/tensorflow2_p310/lib/python3.10/site-packages (from autorom~=0.4.2->autorom[accept-rom-license]~=0.4.2; extra == \"accept-rom-license\"->gymnasium[accept-rom-license,atari]) (2.31.0)\n",
      "Requirement already satisfied: tqdm in /home/ec2-user/anaconda3/envs/tensorflow2_p310/lib/python3.10/site-packages (from autorom~=0.4.2->autorom[accept-rom-license]~=0.4.2; extra == \"accept-rom-license\"->gymnasium[accept-rom-license,atari]) (4.66.1)\n",
      "Collecting AutoROM.accept-rom-license (from autorom[accept-rom-license]~=0.4.2; extra == \"accept-rom-license\"->gymnasium[accept-rom-license,atari])\n",
      "  Downloading AutoROM.accept-rom-license-0.6.1.tar.gz (434 kB)\n",
      "\u001b[2K     \u001b[90m━━━━━━━━━━━━━━━━━━━━━━━━━━━━━━━━━━━━━━\u001b[0m \u001b[32m434.7/434.7 kB\u001b[0m \u001b[31m35.4 MB/s\u001b[0m eta \u001b[36m0:00:00\u001b[0m\n",
      "\u001b[?25h  Installing build dependencies ... \u001b[?25ldone\n",
      "\u001b[?25h  Getting requirements to build wheel ... \u001b[?25ldone\n",
      "\u001b[?25h  Preparing metadata (pyproject.toml) ... \u001b[?25ldone\n",
      "\u001b[?25hCollecting ale-py~=0.8.1 (from shimmy[atari]<1.0,>=0.1.0; extra == \"atari\"->gymnasium[accept-rom-license,atari])\n",
      "  Downloading ale_py-0.8.1-cp310-cp310-manylinux_2_17_x86_64.manylinux2014_x86_64.whl.metadata (8.1 kB)\n",
      "Requirement already satisfied: importlib-resources in /home/ec2-user/anaconda3/envs/tensorflow2_p310/lib/python3.10/site-packages (from ale-py~=0.8.1->shimmy[atari]<1.0,>=0.1.0; extra == \"atari\"->gymnasium[accept-rom-license,atari]) (6.1.1)\n",
      "Requirement already satisfied: charset-normalizer<4,>=2 in /home/ec2-user/anaconda3/envs/tensorflow2_p310/lib/python3.10/site-packages (from requests->autorom~=0.4.2->autorom[accept-rom-license]~=0.4.2; extra == \"accept-rom-license\"->gymnasium[accept-rom-license,atari]) (3.3.2)\n",
      "Requirement already satisfied: idna<4,>=2.5 in /home/ec2-user/anaconda3/envs/tensorflow2_p310/lib/python3.10/site-packages (from requests->autorom~=0.4.2->autorom[accept-rom-license]~=0.4.2; extra == \"accept-rom-license\"->gymnasium[accept-rom-license,atari]) (3.6)\n",
      "Requirement already satisfied: urllib3<3,>=1.21.1 in /home/ec2-user/anaconda3/envs/tensorflow2_p310/lib/python3.10/site-packages (from requests->autorom~=0.4.2->autorom[accept-rom-license]~=0.4.2; extra == \"accept-rom-license\"->gymnasium[accept-rom-license,atari]) (1.26.18)\n",
      "Requirement already satisfied: certifi>=2017.4.17 in /home/ec2-user/anaconda3/envs/tensorflow2_p310/lib/python3.10/site-packages (from requests->autorom~=0.4.2->autorom[accept-rom-license]~=0.4.2; extra == \"accept-rom-license\"->gymnasium[accept-rom-license,atari]) (2023.11.17)\n",
      "Downloading AutoROM-0.4.2-py3-none-any.whl (16 kB)\n",
      "Downloading Shimmy-0.2.1-py3-none-any.whl (25 kB)\n",
      "Downloading ale_py-0.8.1-cp310-cp310-manylinux_2_17_x86_64.manylinux2014_x86_64.whl (1.7 MB)\n",
      "\u001b[2K   \u001b[90m━━━━━━━━━━━━━━━━━━━━━━━━━━━━━━━━━━━━━━━━\u001b[0m \u001b[32m1.7/1.7 MB\u001b[0m \u001b[31m20.7 MB/s\u001b[0m eta \u001b[36m0:00:00\u001b[0m:00:01\u001b[0m\n",
      "\u001b[?25hBuilding wheels for collected packages: AutoROM.accept-rom-license\n",
      "  Building wheel for AutoROM.accept-rom-license (pyproject.toml) ... \u001b[?25ldone\n",
      "\u001b[?25h  Created wheel for AutoROM.accept-rom-license: filename=AutoROM.accept_rom_license-0.6.1-py3-none-any.whl size=446659 sha256=c21cfcf1ee891da66c83887cdbe3058a9799576e0d06f9d200d8ef07c83e4335\n",
      "  Stored in directory: /home/ec2-user/.cache/pip/wheels/6b/1b/ef/a43ff1a2f1736d5711faa1ba4c1f61be1131b8899e6a057811\n",
      "Successfully built AutoROM.accept-rom-license\n",
      "Installing collected packages: ale-py, shimmy, AutoROM.accept-rom-license, autorom\n",
      "Successfully installed AutoROM.accept-rom-license-0.6.1 ale-py-0.8.1 autorom-0.4.2 shimmy-0.2.1\n",
      "/bin/sh: apt-get: command not found\n",
      "Requirement already satisfied: gymnasium[box2d] in /home/ec2-user/anaconda3/envs/tensorflow2_p310/lib/python3.10/site-packages (0.29.1)\n",
      "Requirement already satisfied: numpy>=1.21.0 in /home/ec2-user/anaconda3/envs/tensorflow2_p310/lib/python3.10/site-packages (from gymnasium[box2d]) (1.26.3)\n",
      "Requirement already satisfied: cloudpickle>=1.2.0 in /home/ec2-user/anaconda3/envs/tensorflow2_p310/lib/python3.10/site-packages (from gymnasium[box2d]) (2.2.1)\n",
      "Requirement already satisfied: typing-extensions>=4.3.0 in /home/ec2-user/anaconda3/envs/tensorflow2_p310/lib/python3.10/site-packages (from gymnasium[box2d]) (4.5.0)\n",
      "Requirement already satisfied: farama-notifications>=0.0.1 in /home/ec2-user/anaconda3/envs/tensorflow2_p310/lib/python3.10/site-packages (from gymnasium[box2d]) (0.0.4)\n",
      "Collecting box2d-py==2.3.5 (from gymnasium[box2d])\n",
      "  Downloading box2d-py-2.3.5.tar.gz (374 kB)\n",
      "\u001b[2K     \u001b[90m━━━━━━━━━━━━━━━━━━━━━━━━━━━━━━━━━━━━━━━\u001b[0m \u001b[32m374.4/374.4 kB\u001b[0m \u001b[31m5.2 MB/s\u001b[0m eta \u001b[36m0:00:00\u001b[0m00:01\u001b[0m\n",
      "\u001b[?25h  Preparing metadata (setup.py) ... \u001b[?25ldone\n",
      "\u001b[?25hRequirement already satisfied: pygame>=2.1.3 in /home/ec2-user/anaconda3/envs/tensorflow2_p310/lib/python3.10/site-packages (from gymnasium[box2d]) (2.5.2)\n",
      "Collecting swig==4.* (from gymnasium[box2d])\n",
      "  Downloading swig-4.2.1-py2.py3-none-manylinux_2_5_x86_64.manylinux1_x86_64.whl.metadata (3.6 kB)\n",
      "Downloading swig-4.2.1-py2.py3-none-manylinux_2_5_x86_64.manylinux1_x86_64.whl (1.9 MB)\n",
      "\u001b[2K   \u001b[90m━━━━━━━━━━━━━━━━━━━━━━━━━━━━━━━━━━━━━━━━\u001b[0m \u001b[32m1.9/1.9 MB\u001b[0m \u001b[31m16.5 MB/s\u001b[0m eta \u001b[36m0:00:00\u001b[0m:00:01\u001b[0m\n",
      "\u001b[?25hBuilding wheels for collected packages: box2d-py\n",
      "  Building wheel for box2d-py (setup.py) ... \u001b[?25ldone\n",
      "\u001b[?25h  Created wheel for box2d-py: filename=box2d_py-2.3.5-cp310-cp310-linux_x86_64.whl size=447365 sha256=6d967334dfec2230fa017e6004d2ee14f9a1470c294fc63d83f1914aeeea7b5e\n",
      "  Stored in directory: /home/ec2-user/.cache/pip/wheels/db/8f/6a/eaaadf056fba10a98d986f6dce954e6201ba3126926fc5ad9e\n",
      "Successfully built box2d-py\n",
      "Installing collected packages: swig, box2d-py\n",
      "Successfully installed box2d-py-2.3.5 swig-4.2.1\n"
     ]
    }
   ],
   "source": [
    "!pip install gymnasium\n",
    "!pip install \"gymnasium[atari, accept-rom-license]\"\n",
    "!apt-get install swig\n",
    "!pip install gymnasium[box2d]"
   ]
  },
  {
   "cell_type": "markdown",
   "metadata": {
    "id": "CUDsmBeX_ct9"
   },
   "source": [
    "### Importing the Libraries"
   ]
  },
  {
   "cell_type": "code",
   "execution_count": 2,
   "metadata": {
    "executionInfo": {
     "elapsed": 5006,
     "status": "ok",
     "timestamp": 1709106378937,
     "user": {
      "displayName": "Sundhar Gopal",
      "userId": "16938864680908115120"
     },
     "user_tz": -330
    },
    "id": "tPTc-3H__e25",
    "tags": []
   },
   "outputs": [
    {
     "name": "stderr",
     "output_type": "stream",
     "text": [
      "2024-03-18 14:51:19.253569: I tensorflow/core/platform/cpu_feature_guard.cc:182] This TensorFlow binary is optimized to use available CPU instructions in performance-critical operations.\n",
      "To enable the following instructions: AVX2 FMA, in other operations, rebuild TensorFlow with the appropriate compiler flags.\n",
      "2024-03-18 14:51:29.436141: W tensorflow/compiler/tf2tensorrt/utils/py_utils.cc:38] TF-TRT Warning: Could not find TensorRT\n"
     ]
    }
   ],
   "source": [
    "import numpy as np\n",
    "import matplotlib.pyplot as plt\n",
    "import pandas as pd\n",
    "\n",
    "import tensorflow as tf\n",
    "import gymnasium as gym\n",
    "from gymnasium import spaces\n",
    "\n",
    "from collections import deque, namedtuple\n",
    "\n",
    "from tensorflow import keras\n",
    "from keras import Sequential\n",
    "from keras.layers import Dense, Input\n",
    "from keras.losses import MSE\n",
    "from keras.optimizers import Adam"
   ]
  },
  {
   "cell_type": "markdown",
   "metadata": {
    "id": "7H7e-uVm2Fpd"
   },
   "source": [
    "### Defining the States for the Environment"
   ]
  },
  {
   "cell_type": "code",
   "execution_count": 3,
   "metadata": {
    "colab": {
     "base_uri": "https://localhost:8080/"
    },
    "executionInfo": {
     "elapsed": 18,
     "status": "ok",
     "timestamp": 1709106378937,
     "user": {
      "displayName": "Sundhar Gopal",
      "userId": "16938864680908115120"
     },
     "user_tz": -330
    },
    "id": "_brb4IZl2JGa",
    "outputId": "cc90de95-fced-47ad-eafc-5eefc00860fa",
    "tags": []
   },
   "outputs": [
    {
     "name": "stdout",
     "output_type": "stream",
     "text": [
      "State 1: Start\n",
      "State 2: Reading\n",
      "State 3: Watching\n",
      "State 4: Entertaining\n",
      "State 5: Getting Bored\n",
      "State 6: Rest\n",
      "State 7: Writing\n",
      "State 8: Playing\n",
      "State 9: Clicking Ad\n",
      "State 10: Course Completion\n",
      "State 11: Quit\n"
     ]
    }
   ],
   "source": [
    "states = ['Start', 'Reading', 'Watching', 'Entertaining', 'Getting Bored', 'Rest', 'Writing', 'Playing', 'Clicking Ad', 'Course Completion', 'Quit']\n",
    "\n",
    "for i in range(len(states)) :\n",
    "    print(\"State {}: {}\".format(i+1, states[i]))"
   ]
  },
  {
   "cell_type": "markdown",
   "metadata": {
    "id": "gnhNxfoe2y5G"
   },
   "source": [
    "### Defining the Actions for the Environment"
   ]
  },
  {
   "cell_type": "code",
   "execution_count": 4,
   "metadata": {
    "colab": {
     "base_uri": "https://localhost:8080/"
    },
    "executionInfo": {
     "elapsed": 14,
     "status": "ok",
     "timestamp": 1709106378938,
     "user": {
      "displayName": "Sundhar Gopal",
      "userId": "16938864680908115120"
     },
     "user_tz": -330
    },
    "id": "TcjC9HL023MA",
    "outputId": "2ce1da02-00bb-41ab-99e4-926cf0975b25",
    "tags": []
   },
   "outputs": [
    {
     "name": "stdout",
     "output_type": "stream",
     "text": [
      "Action 1: Stay\n",
      "Action 2: Previous Course\n",
      "Action 3: Additional Content\n",
      "Action 4: Do assignment\n",
      "Action 5: Move to Exams\n",
      "Action 6: Move to high-level course\n",
      "Action 7: Move to low-level course\n",
      "Action 8: Move to Social Media\n"
     ]
    }
   ],
   "source": [
    "actions = ['Stay', 'Previous Course', 'Additional Content', 'Do assignment', 'Move to Exams', 'Move to high-level course', 'Move to low-level course', 'Move to Social Media']\n",
    "\n",
    "for i in range(len(actions)) :\n",
    "    print(\"Action {}: {}\".format(i+1, actions[i]))"
   ]
  },
  {
   "cell_type": "markdown",
   "metadata": {
    "id": "OyzJpoWK4oH8"
   },
   "source": [
    "### Assigning Rewards for each action to be taken respectively"
   ]
  },
  {
   "cell_type": "code",
   "execution_count": 5,
   "metadata": {
    "colab": {
     "base_uri": "https://localhost:8080/"
    },
    "executionInfo": {
     "elapsed": 11,
     "status": "ok",
     "timestamp": 1709106378938,
     "user": {
      "displayName": "Sundhar Gopal",
      "userId": "16938864680908115120"
     },
     "user_tz": -330
    },
    "id": "t_wntOap4yT7",
    "outputId": "cd365ea9-6482-4f08-c74d-11d86cbc3555",
    "tags": []
   },
   "outputs": [
    {
     "name": "stdout",
     "output_type": "stream",
     "text": [
      "Action: Stay\tReward Points: 10\n",
      "Action: Previous Course\tReward Points: 20\n",
      "Action: Additional Content\tReward Points: 50\n",
      "Action: Do assignment\tReward Points: 60\n",
      "Action: Move to Exams\tReward Points: 100\n",
      "Action: Move to high-level course\tReward Points: 100\n",
      "Action: Move to low-level course\tReward Points: 70\n",
      "Action: Move to Social Media\tReward Points: -10\n"
     ]
    }
   ],
   "source": [
    "rewards = {}\n",
    "rewardPoints = [10, 20, 50, 60, 100, 100, 70, -10]\n",
    "\n",
    "for i in range(len(actions)) :\n",
    "    rewards['{}'.format(actions[i])] = rewardPoints[i]\n",
    "\n",
    "keys = list(rewards.keys())\n",
    "for i in range(len(rewards)) :\n",
    "    print(\"Action: {}\\tReward Points: {}\".format(keys[i], rewards.get(keys[i])))"
   ]
  },
  {
   "cell_type": "markdown",
   "metadata": {},
   "source": [
    "### Customizing the State values for the Custom Environment"
   ]
  },
  {
   "cell_type": "code",
   "execution_count": 6,
   "metadata": {
    "tags": []
   },
   "outputs": [
    {
     "name": "stdout",
     "output_type": "stream",
     "text": [
      "State: Start\tAssigned State Number: 0.0\n",
      "State: Reading\tAssigned State Number: 1.0\n",
      "State: Watching\tAssigned State Number: 2.0\n",
      "State: Entertaining\tAssigned State Number: 3.0\n",
      "State: Getting Bored\tAssigned State Number: 4.0\n",
      "State: Rest\tAssigned State Number: 5.0\n",
      "State: Writing\tAssigned State Number: 6.0\n",
      "State: Playing\tAssigned State Number: 7.0\n",
      "State: Clicking Ad\tAssigned State Number: 8.0\n",
      "State: Course Completion\tAssigned State Number: 9.0\n",
      "State: Quit\tAssigned State Number: 10.0\n"
     ]
    }
   ],
   "source": [
    "customStates = {}\n",
    "\n",
    "currentStateNumber = 0.0\n",
    "\n",
    "for state in states :\n",
    "    customStates['{}'.format(state)] = currentStateNumber\n",
    "    currentStateNumber += 1\n",
    "\n",
    "for key in list(customStates.keys()) :\n",
    "    print(\"State: {}\\tAssigned State Number: {}\".format(key, customStates[key]))\n",
    "\n",
    "finalStateForm = np.array(list(customStates.values())).astype(np.float32)"
   ]
  },
  {
   "cell_type": "markdown",
   "metadata": {
    "id": "pAHepFAKBFYN"
   },
   "source": [
    "### Creating and Registering the Environment in Gymnasium"
   ]
  },
  {
   "cell_type": "code",
   "execution_count": 7,
   "metadata": {
    "executionInfo": {
     "elapsed": 10,
     "status": "ok",
     "timestamp": 1709106378939,
     "user": {
      "displayName": "Sundhar Gopal",
      "userId": "16938864680908115120"
     },
     "user_tz": -330
    },
    "id": "7TY2KDw_BLAy",
    "tags": []
   },
   "outputs": [],
   "source": [
    "class ELearningEnv(gym.Env) :\n",
    "    def __init__(self) :\n",
    "        super(ELearningEnv, self).__init__()\n",
    "        self.states = states\n",
    "        self.actions = actions\n",
    "        self.rewards = rewards\n",
    "        self.num_states = len(self.states)\n",
    "        self.action_space = spaces.Discrete(len(self.actions))\n",
    "        self.observation_space = spaces.Box(low=0, high=1, shape=(self.num_states, ))\n",
    "        self.current_state = self.observation_space.sample()\n",
    "\n",
    "    def reset(self) :\n",
    "        self.current_state = np.zeros(shape=self.num_states, dtype=np.float32)\n",
    "        self.current_state[0] = 1\n",
    "        return self.current_state\n",
    "\n",
    "    def step(self, action) :\n",
    "        reward = self.rewards.get(self.actions[action], 0)\n",
    "        done = (self.states[np.argmax(self.current_state)] in ['Course Completion', 'Quit'])\n",
    "        if not done :\n",
    "            if action == 0 :\n",
    "                pass\n",
    "            elif action == 1 :\n",
    "                self.current_state = np.roll(self.current_state, -1)\n",
    "            elif action == 2 :\n",
    "                self.current_state = np.roll(self.current_state, 1)\n",
    "            elif action == 3 :\n",
    "                self.current_state = np.roll(self.current_state, 2)\n",
    "            elif action == 4 :\n",
    "                self.current_state = np.roll(self.current_state, 3)\n",
    "            elif action == 5 :\n",
    "                self.current_state = np.roll(self.current_state, 4)\n",
    "            elif action == 6 :\n",
    "                self.current_state = np.roll(self.current_state, 5)\n",
    "            elif action == 7 :\n",
    "                self.current_state = np.roll(self.current_state, 6)\n",
    "        return self.current_state, reward, done, {}\n",
    "\n",
    "    def render(self, mode = \"human\") :\n",
    "        print(f\"Current State: {self.states[np.argmax(self.current_state)]}\")\n",
    "\n",
    "gym.register(id=\"ELearningEnv-v1\", entry_point=\"__main__:ELearningEnv\")"
   ]
  },
  {
   "cell_type": "markdown",
   "metadata": {
    "id": "Cb8JzWgL86JJ"
   },
   "source": [
    "### Setting the Seeding value for the Environment"
   ]
  },
  {
   "cell_type": "code",
   "execution_count": 8,
   "metadata": {
    "executionInfo": {
     "elapsed": 9,
     "status": "ok",
     "timestamp": 1709106378939,
     "user": {
      "displayName": "Sundhar Gopal",
      "userId": "16938864680908115120"
     },
     "user_tz": -330
    },
    "id": "l0xJGZvo89_Y",
    "tags": []
   },
   "outputs": [],
   "source": [
    "tf.random.set_seed(0)"
   ]
  },
  {
   "cell_type": "markdown",
   "metadata": {
    "id": "iEesj09B9Oa_"
   },
   "source": [
    "### Defining the Hyperparameters"
   ]
  },
  {
   "cell_type": "code",
   "execution_count": 9,
   "metadata": {
    "executionInfo": {
     "elapsed": 404,
     "status": "ok",
     "timestamp": 1709106379335,
     "user": {
      "displayName": "Sundhar Gopal",
      "userId": "16938864680908115120"
     },
     "user_tz": -330
    },
    "id": "_y_mF1rj9RQw",
    "tags": []
   },
   "outputs": [],
   "source": [
    "MEMORY_SIZE = 100_000\n",
    "GAMMA = 0.995\n",
    "ALPHA = 1e-3\n",
    "NUM_STEPS_FOR_EPISODE = 4"
   ]
  },
  {
   "cell_type": "markdown",
   "metadata": {
    "id": "rmnSlEEf9i4x"
   },
   "source": [
    "### Defining the Environment for use"
   ]
  },
  {
   "cell_type": "code",
   "execution_count": 10,
   "metadata": {
    "colab": {
     "base_uri": "https://localhost:8080/"
    },
    "executionInfo": {
     "elapsed": 23,
     "status": "ok",
     "timestamp": 1709106379336,
     "user": {
      "displayName": "Sundhar Gopal",
      "userId": "16938864680908115120"
     },
     "user_tz": -330
    },
    "id": "HcvOsiZ49u5v",
    "outputId": "1460c902-55ef-42d1-ebbf-3433c15335ef",
    "tags": []
   },
   "outputs": [
    {
     "name": "stdout",
     "output_type": "stream",
     "text": [
      "Number of States Available:  (11,) \n",
      "Number of Actions:  8\n"
     ]
    },
    {
     "name": "stderr",
     "output_type": "stream",
     "text": [
      "/home/ec2-user/anaconda3/envs/tensorflow2_p310/lib/python3.10/site-packages/gymnasium/utils/passive_env_checker.py:168: DeprecationWarning: \u001b[33mWARN: Current gymnasium version requires that `Env.reset` can be passed a `seed` instead of using `Env.seed` for resetting the environment random number generator.\u001b[0m\n",
      "  logger.deprecation(\n",
      "/home/ec2-user/anaconda3/envs/tensorflow2_p310/lib/python3.10/site-packages/gymnasium/utils/passive_env_checker.py:181: DeprecationWarning: \u001b[33mWARN: Current gymnasium version requires that `Env.reset` can be passed `options` to allow the environment initialisation to be passed additional information.\u001b[0m\n",
      "  logger.deprecation(\n",
      "/home/ec2-user/anaconda3/envs/tensorflow2_p310/lib/python3.10/site-packages/gymnasium/utils/passive_env_checker.py:189: UserWarning: \u001b[33mWARN: The result returned by `env.reset()` was not a tuple of the form `(obs, info)`, where `obs` is a observation and `info` is a dictionary containing additional information. Actual type: `<class 'numpy.ndarray'>`\u001b[0m\n",
      "  logger.warn(\n"
     ]
    }
   ],
   "source": [
    "env = gym.make(\"ELearningEnv-v1\")\n",
    "env.reset()\n",
    "\n",
    "state_size = env.observation_space.shape\n",
    "action_size = env.action_space.n\n",
    "\n",
    "print(\"Number of States Available: \", state_size, \"\\nNumber of Actions: \", action_size)"
   ]
  },
  {
   "cell_type": "markdown",
   "metadata": {
    "id": "q1MFnkNaQaZh"
   },
   "source": [
    "### Reset the Environment"
   ]
  },
  {
   "cell_type": "code",
   "execution_count": 11,
   "metadata": {
    "executionInfo": {
     "elapsed": 19,
     "status": "ok",
     "timestamp": 1709106379336,
     "user": {
      "displayName": "Sundhar Gopal",
      "userId": "16938864680908115120"
     },
     "user_tz": -330
    },
    "id": "hlFTIL8OQfGF",
    "tags": []
   },
   "outputs": [
    {
     "name": "stdout",
     "output_type": "stream",
     "text": [
      "Current State: [1. 0. 0. 0. 0. 0. 0. 0. 0. 0. 0.]\n"
     ]
    }
   ],
   "source": [
    "current_state = env.reset()\n",
    "print(\"Current State: {}\".format(current_state))"
   ]
  },
  {
   "cell_type": "markdown",
   "metadata": {
    "id": "jZUI5csGQu71"
   },
   "source": [
    "### Test the Environment for a action"
   ]
  },
  {
   "cell_type": "code",
   "execution_count": 12,
   "metadata": {
    "colab": {
     "base_uri": "https://localhost:8080/"
    },
    "executionInfo": {
     "elapsed": 18,
     "status": "ok",
     "timestamp": 1709106379336,
     "user": {
      "displayName": "Sundhar Gopal",
      "userId": "16938864680908115120"
     },
     "user_tz": -330
    },
    "id": "FADOf4DJQybA",
    "outputId": "43db24f0-77f9-4fe3-c61f-b1b0ca96c67a",
    "tags": []
   },
   "outputs": [
    {
     "name": "stdout",
     "output_type": "stream",
     "text": [
      "Current State: Entertaining\n"
     ]
    },
    {
     "name": "stderr",
     "output_type": "stream",
     "text": [
      "/home/ec2-user/anaconda3/envs/tensorflow2_p310/lib/python3.10/site-packages/gymnasium/utils/passive_env_checker.py:213: DeprecationWarning: \u001b[33mWARN: Core environment is written in old step API which returns one bool instead of two. It is recommended to rewrite the environment with new step API. \u001b[0m\n",
      "  logger.deprecation(\n"
     ]
    }
   ],
   "source": [
    "action = 4\n",
    "\n",
    "next_state, reward, done, _ = env.step(action)\n",
    "\n",
    "env.render()"
   ]
  },
  {
   "cell_type": "markdown",
   "metadata": {
    "id": "q_Vh7aXWU9_R"
   },
   "source": [
    "### Create the Deep Neural Network for the Q - Network"
   ]
  },
  {
   "cell_type": "code",
   "execution_count": 13,
   "metadata": {
    "executionInfo": {
     "elapsed": 16,
     "status": "ok",
     "timestamp": 1709106379337,
     "user": {
      "displayName": "Sundhar Gopal",
      "userId": "16938864680908115120"
     },
     "user_tz": -330
    },
    "id": "pYydVBrZVDku",
    "tags": []
   },
   "outputs": [
    {
     "name": "stderr",
     "output_type": "stream",
     "text": [
      "2024-03-18 14:52:51.631020: I tensorflow/compiler/xla/stream_executor/cuda/cuda_gpu_executor.cc:995] successful NUMA node read from SysFS had negative value (-1), but there must be at least one NUMA node, so returning NUMA node zero. See more at https://github.com/torvalds/linux/blob/v6.0/Documentation/ABI/testing/sysfs-bus-pci#L344-L355\n",
      "2024-03-18 14:52:59.913034: I tensorflow/compiler/xla/stream_executor/cuda/cuda_gpu_executor.cc:995] successful NUMA node read from SysFS had negative value (-1), but there must be at least one NUMA node, so returning NUMA node zero. See more at https://github.com/torvalds/linux/blob/v6.0/Documentation/ABI/testing/sysfs-bus-pci#L344-L355\n",
      "2024-03-18 14:52:59.913305: I tensorflow/compiler/xla/stream_executor/cuda/cuda_gpu_executor.cc:995] successful NUMA node read from SysFS had negative value (-1), but there must be at least one NUMA node, so returning NUMA node zero. See more at https://github.com/torvalds/linux/blob/v6.0/Documentation/ABI/testing/sysfs-bus-pci#L344-L355\n",
      "2024-03-18 14:52:59.914471: I tensorflow/compiler/xla/stream_executor/cuda/cuda_gpu_executor.cc:995] successful NUMA node read from SysFS had negative value (-1), but there must be at least one NUMA node, so returning NUMA node zero. See more at https://github.com/torvalds/linux/blob/v6.0/Documentation/ABI/testing/sysfs-bus-pci#L344-L355\n",
      "2024-03-18 14:52:59.914690: I tensorflow/compiler/xla/stream_executor/cuda/cuda_gpu_executor.cc:995] successful NUMA node read from SysFS had negative value (-1), but there must be at least one NUMA node, so returning NUMA node zero. See more at https://github.com/torvalds/linux/blob/v6.0/Documentation/ABI/testing/sysfs-bus-pci#L344-L355\n",
      "2024-03-18 14:52:59.914882: I tensorflow/compiler/xla/stream_executor/cuda/cuda_gpu_executor.cc:995] successful NUMA node read from SysFS had negative value (-1), but there must be at least one NUMA node, so returning NUMA node zero. See more at https://github.com/torvalds/linux/blob/v6.0/Documentation/ABI/testing/sysfs-bus-pci#L344-L355\n",
      "2024-03-18 14:53:00.307655: I tensorflow/compiler/xla/stream_executor/cuda/cuda_gpu_executor.cc:995] successful NUMA node read from SysFS had negative value (-1), but there must be at least one NUMA node, so returning NUMA node zero. See more at https://github.com/torvalds/linux/blob/v6.0/Documentation/ABI/testing/sysfs-bus-pci#L344-L355\n",
      "2024-03-18 14:53:00.307894: I tensorflow/compiler/xla/stream_executor/cuda/cuda_gpu_executor.cc:995] successful NUMA node read from SysFS had negative value (-1), but there must be at least one NUMA node, so returning NUMA node zero. See more at https://github.com/torvalds/linux/blob/v6.0/Documentation/ABI/testing/sysfs-bus-pci#L344-L355\n",
      "2024-03-18 14:53:00.308097: I tensorflow/compiler/xla/stream_executor/cuda/cuda_gpu_executor.cc:995] successful NUMA node read from SysFS had negative value (-1), but there must be at least one NUMA node, so returning NUMA node zero. See more at https://github.com/torvalds/linux/blob/v6.0/Documentation/ABI/testing/sysfs-bus-pci#L344-L355\n",
      "2024-03-18 14:53:00.308246: I tensorflow/core/common_runtime/gpu/gpu_device.cc:1639] Created device /job:localhost/replica:0/task:0/device:GPU:0 with 14792 MB memory:  -> device: 0, name: Tesla V100-SXM2-16GB, pci bus id: 0000:00:1e.0, compute capability: 7.0\n"
     ]
    }
   ],
   "source": [
    "QNetwork = Sequential(\n",
    "    [\n",
    "        Input(shape=state_size),\n",
    "        Dense(units=64, activation=\"relu\"),\n",
    "        Dense(units=128, activation=\"relu\"),\n",
    "        # Dense(units=256, activation=\"relu\"),\n",
    "        # Dense(units=128, activation=\"relu\"),\n",
    "        Dense(units=64, activation=\"relu\"),\n",
    "        Dense(units=action_size, activation=\"linear\")\n",
    "    ]\n",
    ")\n",
    "\n",
    "target_QNetwork = Sequential(\n",
    "    [\n",
    "        Input(shape=state_size),\n",
    "        Dense(units=64, activation=\"relu\"),\n",
    "        Dense(units=128, activation=\"relu\"),\n",
    "        # Dense(units=256, activation=\"relu\"),\n",
    "        # Dense(units=128, activation=\"relu\"),\n",
    "        Dense(units=64, activation=\"relu\"),\n",
    "        Dense(units=action_size, activation=\"linear\")\n",
    "    ]\n",
    ")\n",
    "\n",
    "optimizer = Adam(learning_rate=ALPHA)"
   ]
  },
  {
   "cell_type": "markdown",
   "metadata": {
    "id": "lczeVADlfJjy"
   },
   "source": [
    "### Implementing Experience Replay"
   ]
  },
  {
   "cell_type": "code",
   "execution_count": 14,
   "metadata": {
    "executionInfo": {
     "elapsed": 16,
     "status": "ok",
     "timestamp": 1709106379337,
     "user": {
      "displayName": "Sundhar Gopal",
      "userId": "16938864680908115120"
     },
     "user_tz": -330
    },
    "id": "XURocGktfQ-o",
    "tags": []
   },
   "outputs": [],
   "source": [
    "experience = namedtuple(typename=\"Experience\", field_names=[\"state\", \"action\", \"reward\", \"next_state\", \"done\"])"
   ]
  },
  {
   "cell_type": "markdown",
   "metadata": {
    "id": "yCGQaH5lgQk0"
   },
   "source": [
    "### Defining Compute Loss function for the Deep Q - Learning with Experience Replay"
   ]
  },
  {
   "cell_type": "code",
   "execution_count": 15,
   "metadata": {
    "executionInfo": {
     "elapsed": 401,
     "status": "ok",
     "timestamp": 1709108553326,
     "user": {
      "displayName": "Sundhar Gopal",
      "userId": "16938864680908115120"
     },
     "user_tz": -330
    },
    "id": "OnAeyxWwgXIx",
    "tags": []
   },
   "outputs": [],
   "source": [
    "def compute_loss(experiences, gamma, QNetwork, target_QNetwork) :\n",
    "\n",
    "    # Unpack the mini-batch of experiences\n",
    "    states, actions, rewards, next_states, done_vals = experiences\n",
    "\n",
    "    # Compute max Q^(s,a)\n",
    "    max_qsa = tf.reduce_max(input_tensor=target_QNetwork(next_states), axis=-1)\n",
    "\n",
    "    # Set y = R if episode terminates, otherwise set y = R + gamma max Q^(s,a)\n",
    "    yTargets = rewards + (gamma * max_qsa * (1 - done_vals))\n",
    "\n",
    "    # Get the q_values and reshape to match y_targets\n",
    "    q_values = QNetwork(states)\n",
    "    q_values = tf.gather_nd(q_values, tf.stack([tf.range(q_values.shape[0]),\n",
    "                                                tf.cast(actions, tf.int32)], axis = 1))\n",
    "    \n",
    "    # Compute the Loss\n",
    "    loss = MSE(yTargets, q_values)\n",
    "\n",
    "    return loss"
   ]
  },
  {
   "cell_type": "markdown",
   "metadata": {},
   "source": [
    "### Update the Target Network Weights"
   ]
  },
  {
   "cell_type": "code",
   "execution_count": 16,
   "metadata": {
    "tags": []
   },
   "outputs": [],
   "source": [
    "TAU = 1e-3 # Soft update parameter\n",
    "\n",
    "def update_target_network(QNetwork, target_QNetwork) :\n",
    "    for targetWeights, QNetWeights in zip(target_QNetwork.weights, QNetwork.weights) :\n",
    "        targetWeights.assign(TAU * QNetWeights + (1.0 - TAU) * targetWeights)"
   ]
  },
  {
   "cell_type": "markdown",
   "metadata": {},
   "source": [
    "### Getting the Action based on Epsilon-greedy policy"
   ]
  },
  {
   "cell_type": "code",
   "execution_count": 17,
   "metadata": {
    "tags": []
   },
   "outputs": [],
   "source": [
    "import random\n",
    "\n",
    "def get_action(q_values, epsilon=0.0) :\n",
    "\n",
    "    # Returns an action based on the Epsilon-greedy policy\n",
    "\n",
    "    if random.random() > epsilon :\n",
    "        return np.argmax(q_values.numpy()[0])\n",
    "    return random.choice(np.arange(8))"
   ]
  },
  {
   "cell_type": "markdown",
   "metadata": {},
   "source": [
    "### Checking the Update conditions for the network"
   ]
  },
  {
   "cell_type": "code",
   "execution_count": 18,
   "metadata": {
    "tags": []
   },
   "outputs": [],
   "source": [
    "MINIBATCH_SIZE = 100\n",
    "\n",
    "def check_update_conditions(t, num_steps_upd, memory_buffer) :\n",
    "\n",
    "    # Returns a boolean that will be True if the conditions are met and False otherwise.\n",
    "\n",
    "    if (t + 1) % num_steps_upd == 0 and len(memory_buffer) > MINIBATCH_SIZE :\n",
    "        return True\n",
    "    return False"
   ]
  },
  {
   "cell_type": "markdown",
   "metadata": {},
   "source": [
    "### Getting the Experiences Randomly from the Memory Buffer"
   ]
  },
  {
   "cell_type": "code",
   "execution_count": 19,
   "metadata": {
    "tags": []
   },
   "outputs": [],
   "source": [
    "def get_experiences(memory_buffer) :\n",
    "\n",
    "    # Returns a random sample of experience tuples drawn from the memory buffer.\n",
    "    experiences = random.sample(memory_buffer, k=MINIBATCH_SIZE)\n",
    "    states = tf.convert_to_tensor(\n",
    "        np.array([e.state for e in experiences if e is not None]), dtype=tf.float32\n",
    "    )\n",
    "    actions = tf.convert_to_tensor(\n",
    "        np.array([e.action for e in experiences if e is not None]), dtype=tf.float32\n",
    "    )\n",
    "    rewards = tf.convert_to_tensor(\n",
    "        np.array([e.reward for e in experiences if e is not None]), dtype=tf.float32\n",
    "    )\n",
    "    next_states = tf.convert_to_tensor(\n",
    "        np.array([e.next_state for e in experiences if e is not None]), dtype=tf.float32\n",
    "    )\n",
    "    done_vals = tf.convert_to_tensor(\n",
    "        np.array([e.done for e in experiences if e is not None]).astype(np.uint8),\n",
    "        dtype=tf.float32,\n",
    "    )\n",
    "    return (states, actions, rewards, next_states, done_vals)"
   ]
  },
  {
   "cell_type": "markdown",
   "metadata": {},
   "source": [
    "### Updating the Epsilon value"
   ]
  },
  {
   "cell_type": "code",
   "execution_count": 20,
   "metadata": {
    "tags": []
   },
   "outputs": [],
   "source": [
    "EPSILON_MIN = 0.01 # Minimum Epsilon value for the Epsilon-greedy policy\n",
    "EPSILON_DECAY = 0.995 # Epsilon-decay rate for the Epsilon-greedy policy\n",
    "\n",
    "def get_new_epsilon(epsilon) :\n",
    "\n",
    "    # Returns the updated Epsilon value for the Epsilon-greedy policy\n",
    "\n",
    "    return max(EPSILON_MIN, EPSILON_DECAY * epsilon)"
   ]
  },
  {
   "cell_type": "markdown",
   "metadata": {},
   "source": [
    "### Update the Network Weights"
   ]
  },
  {
   "cell_type": "code",
   "execution_count": 21,
   "metadata": {
    "tags": []
   },
   "outputs": [],
   "source": [
    "@tf.function\n",
    "def agent_learn(experiences, gamma) :\n",
    "    \n",
    "    # Calculate the loss\n",
    "    with tf.GradientTape() as tape :\n",
    "        loss = compute_loss(experiences, gamma, QNetwork, target_QNetwork)\n",
    "\n",
    "    # Get the Gradients of the loss with respect to the weights\n",
    "    gradients = tape.gradient(loss, QNetwork.trainable_variables)\n",
    "\n",
    "    # Update the weights of the QNetwork\n",
    "    optimizer.apply_gradients(zip(gradients, QNetwork.trainable_variables))\n",
    "\n",
    "    # Update the Weights of the Target QNetwork\n",
    "    update_target_network(QNetwork, target_QNetwork)"
   ]
  },
  {
   "cell_type": "markdown",
   "metadata": {},
   "source": [
    "### Defining the structure for training the Agent"
   ]
  },
  {
   "cell_type": "code",
   "execution_count": 22,
   "metadata": {
    "tags": []
   },
   "outputs": [],
   "source": [
    "import time\n",
    "\n",
    "from numpy import float32\n",
    "\n",
    "def AgentTrain(numberOfEpisodes, maximumNumberTimesteps) :\n",
    "    \n",
    "    start = time.time()\n",
    "\n",
    "    totalPointHistory = []\n",
    "    totalQValues = []\n",
    "\n",
    "    numberPointAverage = 10 # Number of total points to use for averaging\n",
    "    epsilon = 1.0 # Initial Epsilon value for Epsilon-greedy policy\n",
    "\n",
    "    # Create a memory buffer D with capacity N\n",
    "    memory_buffer = deque(maxlen=MEMORY_SIZE)\n",
    "\n",
    "    # Set the target network weights equal to the Q-Network weights\n",
    "    target_QNetwork.set_weights(QNetwork.get_weights())\n",
    "\n",
    "    for i in range(numberOfEpisodes) :\n",
    "\n",
    "        # Reset the environment to the initial state and get the initial state\n",
    "        state = env.reset()\n",
    "        # state_oneHot = np.zeros(shape=(len(states),), dtype=float32)\n",
    "        # state_oneHot[state] = 1\n",
    "\n",
    "        totalPoints = 0\n",
    "        EpisodeQValues = 0\n",
    "\n",
    "        for t in range(maximumNumberTimesteps) :\n",
    "\n",
    "            # From the current state S, choose an action A using an Epsilon-greedy policy\n",
    "            state_qn = tf.expand_dims(state, axis=0) # State needs to be the right shape for the Q-Network\n",
    "            q_values = QNetwork(state_qn)\n",
    "            EpisodeQValues += q_values\n",
    "            action = get_action(q_values, epsilon)\n",
    "\n",
    "            # Take action A and receive reward R and the next state S'\n",
    "            next_state, reward, done, _ = env.step(action)\n",
    "\n",
    "            # Store experience tuple (S,A,R,S') in the memory buffer\n",
    "            # Storing the done variable for our convenience\n",
    "            memory_buffer.append(experience(state, action, reward, next_state, done))\n",
    "\n",
    "            # Update the network only after every NUM_STEPS_FOR_UPDATE timesteps.\n",
    "            update = check_update_conditions(t, NUM_STEPS_FOR_EPISODE, memory_buffer)\n",
    "\n",
    "            if update :\n",
    "\n",
    "                # Sample random mini-batch of experience tuples (S,A,R,S') from D\n",
    "                experiences = get_experiences(memory_buffer)\n",
    "\n",
    "                # Set the y-targets, perform a gradient descent step,\n",
    "                # and update the network weights\"\n",
    "                agent_learn(experiences, GAMMA)\n",
    "\n",
    "            state = next_state\n",
    "            totalPoints += reward\n",
    "\n",
    "            if done :\n",
    "                break\n",
    "\n",
    "        totalPointHistory.append(totalPoints)\n",
    "        totalQValues.append(EpisodeQValues)\n",
    "        averageLatestPoints = np.mean(totalPointHistory[-numberPointAverage:])\n",
    "\n",
    "        # Update the Epsilon value\n",
    "        epsilon = get_new_epsilon(epsilon)\n",
    "\n",
    "        print(f\"\\rEpisode {i+1} | Total point average of the last {numberPointAverage} episodes: {averageLatestPoints:.2f}\", end=\"\")\n",
    "\n",
    "        if (i + 1) % numberPointAverage == 0 :\n",
    "            print(f\"\\rEpisode {i+1} | Total point average of the last {numberPointAverage} episodes: {averageLatestPoints:.2f}\")\n",
    "\n",
    "    totalTimeTaken = time.time() - start\n",
    "\n",
    "    print(f\"Total Runtime of the Agent Training: {totalTimeTaken:.2f} s ({(totalTimeTaken / 60):.2f} mins)\")\n",
    "\n",
    "    return totalPointHistory, totalQValues\n"
   ]
  },
  {
   "cell_type": "markdown",
   "metadata": {},
   "source": [
    "### Analyzing the Performance of the algorithm"
   ]
  },
  {
   "cell_type": "code",
   "execution_count": 51,
   "metadata": {
    "tags": []
   },
   "outputs": [
    {
     "ename": "SyntaxError",
     "evalue": "invalid syntax (1097196653.py, line 16)",
     "output_type": "error",
     "traceback": [
      "\u001b[0;36m  Cell \u001b[0;32mIn[51], line 16\u001b[0;36m\u001b[0m\n\u001b[0;31m    print(\"Average Success Rate of the algorithm: \", averageSuccessRate)s\u001b[0m\n\u001b[0m                                                                        ^\u001b[0m\n\u001b[0;31mSyntaxError\u001b[0m\u001b[0;31m:\u001b[0m invalid syntax\n"
     ]
    }
   ],
   "source": [
    "def algorithmPerformance(totalPointHistory, totalQValues) :\n",
    "\n",
    "    print(\"\\n\\nPERFORMANCE OF THE ALGORITHM BY THE AGENT\\n\\n\")\n",
    "\n",
    "    averageReward = np.mean(totalPointHistory)\n",
    "    print(\"Average Reward generated for each episode: \", averageReward)\n",
    "\n",
    "    averageQValues = np.mean(totalQValues)\n",
    "    print(\"Average Q - Value generated for each episode \", averageQValues)\n",
    "\n",
    "    successfulEpisodes = 0\n",
    "    for rewards in totalPointHistory :\n",
    "        if rewards > 450 :\n",
    "            successfulEpisodes += 1\n",
    "    averageSuccessRate = ((successfulEpisodes / len(totalPointHistory)) * 100)\n",
    "    print(\"Average Success Rate of the algorithm: \", averageSuccessRate)"
   ]
  },
  {
   "cell_type": "markdown",
   "metadata": {},
   "source": [
    "### Plotting the Agent Performance with generated rewards"
   ]
  },
  {
   "cell_type": "code",
   "execution_count": 24,
   "metadata": {
    "tags": []
   },
   "outputs": [],
   "source": [
    "def PlottingRewards(totalPointHistory):\n",
    "    plt.plot(totalPointHistory)\n",
    "    plt.xlabel('Episode')\n",
    "    plt.ylabel('Total Reward')\n",
    "    plt.title('Rewards generated for {} episodes'.format(len(totalPointHistory)))\n",
    "    plt.grid(True)\n",
    "\n",
    "    # Save the plot as an image\n",
    "    plt.savefig(\"Rewards_{}_Episodes.jpg\".format(len(totalPointHistory)), format='jpg')\n",
    "\n",
    "    # Show the generated plot\n",
    "    plt.show()"
   ]
  },
  {
   "cell_type": "markdown",
   "metadata": {},
   "source": [
    "### Training the Agent with 100 episodes"
   ]
  },
  {
   "cell_type": "code",
   "execution_count": 25,
   "metadata": {
    "tags": []
   },
   "outputs": [
    {
     "name": "stdout",
     "output_type": "stream",
     "text": [
      "Training Results of the agent training for the 100 episodes\n",
      "\n",
      "\n",
      "Episode 10 | Total point average of the last 10 episodes: 260.00\n",
      "Episode 15 | Total point average of the last 10 episodes: 404.00"
     ]
    },
    {
     "name": "stderr",
     "output_type": "stream",
     "text": [
      "2024-03-18 14:54:32.235205: I tensorflow/compiler/xla/service/service.cc:168] XLA service 0x7f16c1002500 initialized for platform CUDA (this does not guarantee that XLA will be used). Devices:\n",
      "2024-03-18 14:54:32.235241: I tensorflow/compiler/xla/service/service.cc:176]   StreamExecutor device (0): Tesla V100-SXM2-16GB, Compute Capability 7.0\n",
      "2024-03-18 14:54:32.865660: I tensorflow/compiler/mlir/tensorflow/utils/dump_mlir_util.cc:255] disabling MLIR crash reproducer, set env var `MLIR_CRASH_REPRODUCER_DIRECTORY` to enable.\n",
      "2024-03-18 14:54:33.666085: I tensorflow/compiler/xla/stream_executor/cuda/cuda_dnn.cc:432] Loaded cuDNN version 8700\n",
      "2024-03-18 14:54:36.054483: I ./tensorflow/compiler/jit/device_compiler.h:186] Compiled cluster using XLA!  This line is logged at most once for the lifetime of the process.\n"
     ]
    },
    {
     "name": "stdout",
     "output_type": "stream",
     "text": [
      "Episode 20 | Total point average of the last 10 episodes: 503.00\n",
      "Episode 30 | Total point average of the last 10 episodes: 377.00\n",
      "Episode 40 | Total point average of the last 10 episodes: 548.00\n",
      "Episode 50 | Total point average of the last 10 episodes: 323.00\n",
      "Episode 60 | Total point average of the last 10 episodes: 250.00\n",
      "Episode 70 | Total point average of the last 10 episodes: 641.00\n",
      "Episode 80 | Total point average of the last 10 episodes: 362.00\n",
      "Episode 90 | Total point average of the last 10 episodes: 402.00\n",
      "Episode 100 | Total point average of the last 10 episodes: 512.00\n",
      "Total Runtime of the Agent Training: 11.07 s (0.18 mins)\n",
      "Average Reward generated for each episode:  417.8\n",
      "Average Q - Value generated for each episode  133.70694\n"
     ]
    },
    {
     "data": {
      "image/png": "[encoded data removed]",
      "text/plain": [
       "<Figure size 640x480 with 1 Axes>"
      ]
     },
     "metadata": {},
     "output_type": "display_data"
    }
   ],
   "source": [
    "# Defining the number of episodes\n",
    "numberEpisodes = 100\n",
    "\n",
    "# Defining the maximum number of timesteps for each episode\n",
    "maximumNumberTimesteps = 1000\n",
    "\n",
    "print(\"Training Results of the agent training for the {} episodes\\n\\n\".format(numberEpisodes))\n",
    "totalPointHistory, totalQValues = AgentTrain(numberOfEpisodes=numberEpisodes, maximumNumberTimesteps=maximumNumberTimesteps)\n",
    "algorithmPerformance(totalPointHistory, totalQValues)\n",
    "PlottingRewards(totalPointHistory)"
   ]
  },
  {
   "cell_type": "markdown",
   "metadata": {},
   "source": [
    "### Training the Agent with 200 epsiodes"
   ]
  },
  {
   "cell_type": "code",
   "execution_count": 28,
   "metadata": {
    "tags": []
   },
   "outputs": [
    {
     "name": "stdout",
     "output_type": "stream",
     "text": [
      "Training Results of the agent training for the 200 episodes\n",
      "\n",
      "\n",
      "Episode 10 | Total point average of the last 10 episodes: 212.00\n",
      "Episode 20 | Total point average of the last 10 episodes: 465.00\n",
      "Episode 30 | Total point average of the last 10 episodes: 568.00\n",
      "Episode 40 | Total point average of the last 10 episodes: 448.00\n",
      "Episode 50 | Total point average of the last 10 episodes: 436.00\n",
      "Episode 60 | Total point average of the last 10 episodes: 547.00\n",
      "Episode 70 | Total point average of the last 10 episodes: 417.00\n",
      "Episode 80 | Total point average of the last 10 episodes: 400.00\n",
      "Episode 90 | Total point average of the last 10 episodes: 496.00\n",
      "Episode 100 | Total point average of the last 10 episodes: 484.00\n",
      "Episode 110 | Total point average of the last 10 episodes: 230.00\n",
      "Episode 120 | Total point average of the last 10 episodes: 611.00\n",
      "Episode 130 | Total point average of the last 10 episodes: 576.00\n",
      "Episode 140 | Total point average of the last 10 episodes: 817.00\n",
      "Episode 150 | Total point average of the last 10 episodes: 1443.00\n",
      "Episode 160 | Total point average of the last 10 episodes: 772.000\n",
      "Episode 170 | Total point average of the last 10 episodes: 768.00\n",
      "Episode 180 | Total point average of the last 10 episodes: 1186.00\n",
      "Episode 190 | Total point average of the last 10 episodes: 869.000\n",
      "Episode 200 | Total point average of the last 10 episodes: 1074.00\n",
      "Total Runtime of the Agent Training: 8.00 s (0.13 mins)\n",
      "Average Reward generated for each episode:  640.95\n",
      "Average Q - Value generated for each episode  2922.3535\n"
     ]
    },
    {
     "data": {
      "image/png": "[encoded data removed]",
      "text/plain": [
       "<Figure size 640x480 with 1 Axes>"
      ]
     },
     "metadata": {},
     "output_type": "display_data"
    }
   ],
   "source": [
    "# Defining the number of episodes\n",
    "numberEpisodes = 200\n",
    "\n",
    "# Defining the maximum number of timesteps for each episode\n",
    "maximumNumberTimesteps = 1000\n",
    "\n",
    "print(\"Training Results of the agent training for the {} episodes\\n\\n\".format(numberEpisodes))\n",
    "totalPointHistory, totalQValues = AgentTrain(numberOfEpisodes=numberEpisodes, maximumNumberTimesteps=maximumNumberTimesteps)\n",
    "algorithmPerformance(totalPointHistory, totalQValues)\n",
    "PlottingRewards(totalPointHistory)"
   ]
  },
  {
   "cell_type": "markdown",
   "metadata": {},
   "source": [
    "### Training the Agent with 500 episodes"
   ]
  },
  {
   "cell_type": "code",
   "execution_count": 31,
   "metadata": {
    "tags": []
   },
   "outputs": [
    {
     "name": "stdout",
     "output_type": "stream",
     "text": [
      "Training Results of the agent training for the 500 episodes\n",
      "\n",
      "\n",
      "Episode 10 | Total point average of the last 10 episodes: 405.00\n",
      "Episode 20 | Total point average of the last 10 episodes: 371.00\n",
      "Episode 30 | Total point average of the last 10 episodes: 446.00\n",
      "Episode 40 | Total point average of the last 10 episodes: 561.00\n",
      "Episode 50 | Total point average of the last 10 episodes: 438.00\n",
      "Episode 60 | Total point average of the last 10 episodes: 635.00\n",
      "Episode 70 | Total point average of the last 10 episodes: 554.00\n",
      "Episode 80 | Total point average of the last 10 episodes: 705.00\n",
      "Episode 90 | Total point average of the last 10 episodes: 700.00\n",
      "Episode 100 | Total point average of the last 10 episodes: 465.00\n",
      "Episode 110 | Total point average of the last 10 episodes: 837.00\n",
      "Episode 120 | Total point average of the last 10 episodes: 738.00\n",
      "Episode 130 | Total point average of the last 10 episodes: 657.00\n",
      "Episode 140 | Total point average of the last 10 episodes: 849.00\n",
      "Episode 150 | Total point average of the last 10 episodes: 1141.00\n",
      "Episode 160 | Total point average of the last 10 episodes: 1498.00\n",
      "Episode 170 | Total point average of the last 10 episodes: 944.000\n",
      "Episode 180 | Total point average of the last 10 episodes: 744.00\n",
      "Episode 190 | Total point average of the last 10 episodes: 1157.00\n",
      "Episode 200 | Total point average of the last 10 episodes: 1111.00\n",
      "Episode 210 | Total point average of the last 10 episodes: 1205.00\n",
      "Episode 220 | Total point average of the last 10 episodes: 2151.00\n",
      "Episode 230 | Total point average of the last 10 episodes: 1099.00\n",
      "Episode 240 | Total point average of the last 10 episodes: 1842.00\n",
      "Episode 250 | Total point average of the last 10 episodes: 587.000\n",
      "Episode 260 | Total point average of the last 10 episodes: 1579.00\n",
      "Episode 270 | Total point average of the last 10 episodes: 1944.00\n",
      "Episode 280 | Total point average of the last 10 episodes: 2266.00\n",
      "Episode 290 | Total point average of the last 10 episodes: 1399.00\n",
      "Episode 300 | Total point average of the last 10 episodes: 2072.00\n",
      "Episode 310 | Total point average of the last 10 episodes: 3018.00\n",
      "Episode 320 | Total point average of the last 10 episodes: 4010.00\n",
      "Episode 330 | Total point average of the last 10 episodes: 2482.00\n",
      "Episode 340 | Total point average of the last 10 episodes: 1624.00\n",
      "Episode 350 | Total point average of the last 10 episodes: 3865.00\n",
      "Episode 360 | Total point average of the last 10 episodes: 2183.00\n",
      "Episode 370 | Total point average of the last 10 episodes: 3039.00\n",
      "Episode 380 | Total point average of the last 10 episodes: 3112.00\n",
      "Episode 390 | Total point average of the last 10 episodes: 4507.00\n",
      "Episode 400 | Total point average of the last 10 episodes: 4504.00\n",
      "Episode 410 | Total point average of the last 10 episodes: 3982.00\n",
      "Episode 420 | Total point average of the last 10 episodes: 6537.00\n",
      "Episode 430 | Total point average of the last 10 episodes: 4107.00\n",
      "Episode 440 | Total point average of the last 10 episodes: 4178.00\n",
      "Episode 450 | Total point average of the last 10 episodes: 7484.00\n",
      "Episode 460 | Total point average of the last 10 episodes: 2705.00\n",
      "Episode 470 | Total point average of the last 10 episodes: 7454.00\n",
      "Episode 480 | Total point average of the last 10 episodes: 10292.00\n",
      "Episode 490 | Total point average of the last 10 episodes: 9153.000\n",
      "Episode 500 | Total point average of the last 10 episodes: 5827.00\n",
      "Total Runtime of the Agent Training: 58.71 s (0.98 mins)\n",
      "Average Reward generated for each episode:  2503.26\n",
      "Average Q - Value generated for each episode  30108.072\n"
     ]
    },
    {
     "data": {
      "image/png": "[encoded data removed]",
      "text/plain": [
       "<Figure size 640x480 with 1 Axes>"
      ]
     },
     "metadata": {},
     "output_type": "display_data"
    }
   ],
   "source": [
    "# Defining the number of episodes\n",
    "numberEpisodes = 500\n",
    "\n",
    "# Defining the maximum number of timesteps for each episode\n",
    "maximumNumberTimesteps = 1000\n",
    "\n",
    "print(\"Training Results of the agent training for the {} episodes\\n\\n\".format(numberEpisodes))\n",
    "totalPointHistory, totalQValues = AgentTrain(numberOfEpisodes=numberEpisodes, maximumNumberTimesteps=maximumNumberTimesteps)\n",
    "algorithmPerformance(totalPointHistory, totalQValues)\n",
    "PlottingRewards(totalPointHistory)"
   ]
  }
 ],
 "metadata": {
  "colab": {
   "authorship_tag": "ABX9TyNzfvE6hzQ81t8bkazFT2d7",
   "provenance": []
  },
  "kernelspec": {
   "display_name": "conda_tensorflow2_p310",
   "language": "python",
   "name": "conda_tensorflow2_p310"
  },
  "language_info": {
   "codemirror_mode": {
    "name": "ipython",
    "version": 3
   },
   "file_extension": ".py",
   "mimetype": "text/x-python",
   "name": "python",
   "nbconvert_exporter": "python",
   "pygments_lexer": "ipython3",
   "version": "3.10.13"
  }
 },
 "nbformat": 4,
 "nbformat_minor": 4
}
